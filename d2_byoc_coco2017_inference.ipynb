{
 "cells": [
  {
   "cell_type": "markdown",
   "metadata": {},
   "source": [
    "# Hosting Detectron2 model on Sagemaker Inference endpoint\n",
    "\n",
    "In this notebook we'll package previously trained model into PyTorch Serving container and deploy it on Sagemaker. First, let's review serving container. There are two key difference comparing to training container:\n",
    "- we are using different base container provided by Sagemaker;\n",
    "- we need to start Web server (refer to ENTRYPOINT command)."
   ]
  },
  {
   "cell_type": "markdown",
   "metadata": {},
   "source": [
    "## Compiling Serving Container"
   ]
  },
  {
   "cell_type": "code",
   "execution_count": null,
   "metadata": {},
   "outputs": [],
   "source": [
    "! pygmentize -l docker Dockerfile.serving"
   ]
  },
  {
   "cell_type": "markdown",
   "metadata": {},
   "source": [
    "As in case of training image, we'll need to build and push container to AWS ECR. Before this, we'll need to loging to shared Sagemaker ECR and your local ECR"
   ]
  },
  {
   "cell_type": "code",
   "execution_count": null,
   "metadata": {},
   "outputs": [],
   "source": [
    "# loging to Sagemaker ECR with Deep Learning Containers\n",
    "!aws ecr get-login-password --region us-east-2 | docker login --username AWS --password-stdin 763104351884.dkr.ecr.us-east-2.amazonaws.com\n",
    "# loging to your private ECR\n",
    "!aws ecr get-login-password --region us-east-2 | docker login --username AWS --password-stdin 553020858742.dkr.ecr.us-east-2.amazonaws.com"
   ]
  },
  {
   "cell_type": "markdown",
   "metadata": {},
   "source": [
    "Now, let's build and push container using follow command. Note, that here we supply non-default Dockerfile."
   ]
  },
  {
   "cell_type": "code",
   "execution_count": null,
   "metadata": {},
   "outputs": [],
   "source": [
    "! ./build_and_push.sh d2-sm-coco-serving latest Dockerfile.serving"
   ]
  },
  {
   "cell_type": "markdown",
   "metadata": {},
   "source": [
    "## Preparing test data\n",
    "\n",
    "We'll be using coco2017 validation dataset. To simplify working with it, let's install locally Pycoco package"
   ]
  },
  {
   "cell_type": "code",
   "execution_count": null,
   "metadata": {},
   "outputs": [],
   "source": [
    "!pip install 'git+https://github.com/cocodataset/cocoapi.git#subdirectory=PythonAPI'"
   ]
  },
  {
   "cell_type": "code",
   "execution_count": null,
   "metadata": {},
   "outputs": [],
   "source": [
    "!pip install -U scikit-image"
   ]
  },
  {
   "cell_type": "code",
   "execution_count": null,
   "metadata": {},
   "outputs": [],
   "source": [
    "!pip install google-colab # needed for image rendering"
   ]
  },
  {
   "cell_type": "markdown",
   "metadata": {},
   "source": [
    "Now, let's download Coco2017 validation dataset"
   ]
  },
  {
   "cell_type": "code",
   "execution_count": null,
   "metadata": {},
   "outputs": [],
   "source": [
    "data_dir = \"../datasets/coco/\" # folder where data will be saved\n",
    "dataset  = \"val2017\""
   ]
  },
  {
   "cell_type": "code",
   "execution_count": null,
   "metadata": {},
   "outputs": [],
   "source": [
    "! mkdir -p {data_dir}{dataset}\n",
    "! wget http://images.cocodataset.org/zips/val2017.zip -P {data_dir}\n",
    "! unzip {data_dir}/val2017.zip -d {data_dir}"
   ]
  },
  {
   "cell_type": "code",
   "execution_count": null,
   "metadata": {},
   "outputs": [],
   "source": [
    "! wget http://images.cocodataset.org/annotations/annotations_trainval2017.zip -P {data_dir}\n",
    "! unzip {data_dir}/annotations_trainval2017.zip -d {data_dir}{dataset}"
   ]
  },
  {
   "cell_type": "markdown",
   "metadata": {},
   "source": [
    "Let's get a random image ..."
   ]
  },
  {
   "cell_type": "code",
   "execution_count": null,
   "metadata": {},
   "outputs": [],
   "source": [
    "%matplotlib inline\n",
    "from pycocotools.coco import COCO\n",
    "import numpy as np\n",
    "import skimage.io as io\n",
    "import matplotlib.pyplot as plt\n",
    "import pylab\n",
    "pylab.rcParams['figure.figsize'] = (8.0, 10.0)\n",
    "\n",
    "annFile='{}{}/annotations/instances_{}.json'.format(data_dir,dataset, dataset)\n",
    "coco=COCO(annFile)\n",
    "\n",
    "# get all images containing given categories, select one at random\n",
    "catIds = coco.getCatIds(catNms=['person','dog']);\n",
    "imgIds = coco.getImgIds(catIds=catIds);\n",
    "imgId = imgIds[np.random.randint(len(imgIds))]\n",
    "image_instance = coco.loadImgs(imgId)[0]\n",
    "image_np = io.imread(image_instance['coco_url'])    "
   ]
  },
  {
   "cell_type": "code",
   "execution_count": null,
   "metadata": {},
   "outputs": [],
   "source": [
    "plt.axis('off')\n",
    "plt.imshow(image_np)\n",
    "plt.show()"
   ]
  },
  {
   "cell_type": "markdown",
   "metadata": {},
   "source": [
    "# Testing inference script locally\n",
    "\n",
    "Let's first check what inference script we'll deploy:"
   ]
  },
  {
   "cell_type": "code",
   "execution_count": null,
   "metadata": {},
   "outputs": [],
   "source": [
    "!pygmentize container_serving/predict_coco.py"
   ]
  },
  {
   "cell_type": "markdown",
   "metadata": {},
   "source": [
    "To test inference pipeline locally, you can run your `container_serving/predict_coco.py` locally (only code in __main__ guard will be executed). You'll need to have Detectron2 and number other packages locally installed to test it.\n",
    "\n",
    "Make sure that you pass correct --model-dir argument."
   ]
  },
  {
   "cell_type": "code",
   "execution_count": null,
   "metadata": {},
   "outputs": [],
   "source": [
    "!python container_serving/predict_coco.py --image container_serving/coco_sample.jpg --model-dir ../trained_model"
   ]
  },
  {
   "cell_type": "markdown",
   "metadata": {},
   "source": [
    "# Deploying Inference Endpoint\n",
    "\n",
    "Below is some initial imports and configuration."
   ]
  },
  {
   "cell_type": "code",
   "execution_count": 7,
   "metadata": {},
   "outputs": [],
   "source": [
    "import boto3\n",
    "import re\n",
    "\n",
    "import os\n",
    "import numpy as np\n",
    "import pandas as pd\n",
    "from sagemaker import get_execution_role\n",
    "import requests\n",
    "import json\n",
    "import pickle\n",
    "import detectron2 \n",
    "\n",
    "role = get_execution_role()"
   ]
  },
  {
   "cell_type": "code",
   "execution_count": 8,
   "metadata": {},
   "outputs": [],
   "source": [
    "import sagemaker\n",
    "from time import gmtime, strftime\n",
    "\n",
    "sess = sagemaker.Session() # can use LocalSession() to run container locally\n",
    "\n",
    "bucket = sess.default_bucket()\n",
    "region = \"us-east-2\"\n",
    "account = sess.boto_session.client('sts').get_caller_identity()['Account']\n",
    "prefix_input = 'detectron2-input'\n",
    "prefix_output = 'detectron2-ouput'"
   ]
  },
  {
   "cell_type": "code",
   "execution_count": 9,
   "metadata": {},
   "outputs": [
    {
     "name": "stdout",
     "output_type": "stream",
     "text": [
      "<sagemaker.session.Session object at 0x7f9aa1f749b0>\n"
     ]
    }
   ],
   "source": [
    "print(sess)"
   ]
  },
  {
   "cell_type": "markdown",
   "metadata": {},
   "source": [
    "## Define parameters of your container"
   ]
  },
  {
   "cell_type": "code",
   "execution_count": 4,
   "metadata": {},
   "outputs": [
    {
     "name": "stdout",
     "output_type": "stream",
     "text": [
      "Following container will be used for hosting:  553020858742.dkr.ecr.us-east-2.amazonaws.com/d2-sm-coco-serving:latest\n"
     ]
    }
   ],
   "source": [
    "container_serving = \"d2-sm-coco-serving\" # your container name\n",
    "tag = \"latest\" # you can have several version of container available\n",
    "image = '{}.dkr.ecr.{}.amazonaws.com/{}:{}'.format(account, region, container_serving, tag)\n",
    "\n",
    "print(\"Following container will be used for hosting: \",image)"
   ]
  },
  {
   "cell_type": "markdown",
   "metadata": {},
   "source": [
    "## Deploy endpoint locally\n",
    "\n",
    "As training on COCO2017 can be quite lenghty, we'll deploy our endpoint from model artifacts from already completed training jobs. Please review your training jobs, and find one which succesffuly completed. Then, copy model artifact S3 URI and.  pass it to `model_data` argument below."
   ]
  },
  {
   "cell_type": "code",
   "execution_count": null,
   "metadata": {},
   "outputs": [],
   "source": [
    "from sagemaker.pytorch import PyTorchModel, PyTorch, PyTorchPredictor\n",
    "from sagemaker import Model\n",
    "\n",
    "\n",
    "model = PyTorchModel(\n",
    "                     model_data=\"s3://sagemaker-us-east-2-553020858742/detectron2-model/R101-FPN.tar.gz\",\n",
    "                     role=role,\n",
    "                     entry_point=\"predict_coco.py\", source_dir=\"container_serving\",\n",
    "                     framework_version=\"1.4\", py_version=\"3.6\",\n",
    "                     image=image)"
   ]
  },
  {
   "cell_type": "code",
   "execution_count": null,
   "metadata": {},
   "outputs": [],
   "source": [
    "predictor = model.deploy(\n",
    "                         instance_type = 'local_gpu',\n",
    "                         initial_instance_count=1,\n",
    "                         endpoint_name=f\"{container_serving}-{tag}\", # define a unqie endpoint name; if ommited, Sagemaker will generate it based on used container\n",
    "                         tags=[{\"Key\":\"image\", \"Value\":f\"{container_serving}:{tag}\"}], \n",
    "                         wait=False\n",
    "                         )"
   ]
  },
  {
   "cell_type": "code",
   "execution_count": null,
   "metadata": {},
   "outputs": [],
   "source": [
    "url = 'http://172.18.0.2:8080/invocations' # IP address of serving container when deployed locally\n",
    "content_type = 'jpeg'\n",
    "accept_type = \"detectron2\" # \"json\" or \"detectron2\" supported\n",
    "headers = {'content-type': content_type, 'accept': accept_type}\n",
    "payload = open('coco_sample.jpg', 'rb')\n",
    "\n",
    "response = requests.post(url, data=payload, headers=headers)\n",
    "\n",
    "if accept_type==\"json\":\n",
    "    predictions = json.loads(response.content)\n",
    "elif accept_type==\"detectron2\":\n",
    "    predictions = pickle.loads(response.content)\n",
    "\n",
    "print(predictions)"
   ]
  },
  {
   "cell_type": "markdown",
   "metadata": {},
   "source": [
    "## Deploy remote endpoint\n",
    "\n",
    "To process inference data when we are sending it over internet, we need to have two customer ser/deser methods."
   ]
  },
  {
   "cell_type": "code",
   "execution_count": 19,
   "metadata": {},
   "outputs": [],
   "source": [
    "from sagemaker.pytorch import PyTorchModel, PyTorch, PyTorchPredictor\n",
    "from sagemaker.estimator import Estimator, Model\n",
    "\n",
    "remote_model = PyTorchModel(\n",
    "                     name = \"d2-service-v7\", \n",
    "                     model_data=\"s3://sagemaker-us-east-2-553020858742/detectron2-model/R101-FPN-v2.tar.gz\", # from training job\n",
    "                     role=role,\n",
    "                     entry_point=\"predict_coco.py\", source_dir=\"container_serving\",\n",
    "                     framework_version=\"1.4\", py_version=\"3.6\",\n",
    "                     image=image)"
   ]
  },
  {
   "cell_type": "code",
   "execution_count": 20,
   "metadata": {},
   "outputs": [],
   "source": [
    "endpoint_name = f\"{container_serving}-{tag}\"\n",
    "\n",
    "remote_predictor = remote_model.deploy(\n",
    "                         instance_type='ml.p3.16xlarge', \n",
    "                         initial_instance_count=1,\n",
    "                         endpoint_name=endpoint_name+\"v7\", # define a unqie endpoint name; if ommited, Sagemaker will generate it based on used container\n",
    "                         tags=[{\"Key\":\"image\", \"Value\":f\"{container_serving}:{tag}\"}], \n",
    "                         wait=False\n",
    "                         )"
   ]
  },
  {
   "cell_type": "code",
   "execution_count": 18,
   "metadata": {},
   "outputs": [
    {
     "name": "stdout",
     "output_type": "stream",
     "text": [
      "(480, 640, 3)\n",
      "{'scores': [0.9974532723426819, 0.9938008189201355, 0.988240122795105, 0.9850716590881348, 0.9844247102737427, 0.9810763597488403, 0.9800938963890076, 0.9720492362976074, 0.9688801765441895, 0.9674813747406006, 0.927189290523529, 0.9221163988113403, 0.9185774326324463, 0.9142449498176575, 0.8913487792015076, 0.8826121687889099, 0.8605493903160095, 0.8423078656196594, 0.8416911363601685, 0.8005133271217346, 0.7691927552223206, 0.7283533811569214, 0.7125754356384277, 0.6947720050811768, 0.6323946118354797, 0.5554373264312744, 0.502210259437561], 'pred_classes': [0, 2, 2, 2, 9, 0, 2, 0, 2, 0, 0, 5, 24, 9, 2, 2, 9, 5, 9, 2, 2, 0, 2, 0, 9, 9, 9], 'pred_boxes': [[309.5509033203125, 163.2444610595703, 434.3181457519531, 475.4096984863281], [3.7802395820617676, 242.15467834472656, 537.434814453125, 432.81524658203125], [14.279938697814941, 212.42967224121094, 45.97575759887695, 233.4514617919922], [421.2859191894531, 208.60498046875, 556.5548706054688, 309.9937744140625], [143.9969940185547, 143.22933959960938, 152.34913635253906, 159.94985961914062], [582.5836181640625, 198.43775939941406, 600.1054077148438, 266.8861389160156], [57.001808166503906, 211.5207061767578, 77.75701141357422, 229.96949768066406], [134.99818420410156, 208.92091369628906, 189.38192749023438, 278.38665771484375], [75.46967315673828, 209.60325622558594, 103.36743927001953, 230.1490478515625], [545.7862548828125, 202.4793243408203, 569.5499267578125, 269.63946533203125], [605.6588745117188, 201.08189392089844, 626.3668823242188, 269.6811218261719], [183.23878479003906, 177.90478515625, 242.53317260742188, 238.60890197753906], [129.665771484375, 228.85916137695312, 170.4459686279297, 264.7272644042969], [46.01143264770508, 137.7577362060547, 54.27482604980469, 154.9816436767578], [121.1451416015625, 205.1159210205078, 157.94473266601562, 229.43475341796875], [255.93080139160156, 214.98483276367188, 284.3371887207031, 243.56529235839844], [110.03988647460938, 133.47642517089844, 118.6834487915039, 152.92295837402344], [93.23741912841797, 186.40609741210938, 128.8490447998047, 226.1478271484375], [183.7700653076172, 141.0837860107422, 191.97706604003906, 156.7988739013672], [270.9613037109375, 206.3548583984375, 346.9297790527344, 241.0618438720703], [387.1550598144531, 269.3006286621094, 526.6027221679688, 415.30615234375], [0.49352559447288513, 323.8660583496094, 49.01905822753906, 359.7412414550781], [145.3698272705078, 207.95762634277344, 169.30557250976562, 229.77464294433594], [615.1426391601562, 207.83851623535156, 639.5967407226562, 354.58331298828125], [142.42550659179688, 176.94520568847656, 147.10646057128906, 185.7545166015625], [152.2357635498047, 165.64385986328125, 158.73641967773438, 175.6268768310547], [105.40318298339844, 177.60287475585938, 110.80204772949219, 182.9259796142578]]}\n"
     ]
    }
   ],
   "source": [
    "import boto3\n",
    "import skimage.io\n",
    "from io import BytesIO\n",
    "#import d2_deserializer\n",
    "\n",
    "pred_image = 'coco_sample.jpg'\n",
    "\n",
    "client = boto3.client('sagemaker-runtime')\n",
    "accept_type = \"json\"\n",
    "content_type = 'image/jpeg'\n",
    "headers = {'content-type': content_type}\n",
    "payload = open(pred_image, 'rb')\n",
    "image_np = skimage.io.imread(pred_image)\n",
    "height, weight, _ = image_np.shape\n",
    "print(image_np.shape)\n",
    "endpoint_name = \"d2-sm-coco-serving-latestv6\"\n",
    "\n",
    "response = client.invoke_endpoint(\n",
    "    EndpointName=endpoint_name,\n",
    "    Body=payload,\n",
    "    ContentType=content_type,\n",
    "    Accept = accept_type\n",
    ")\n",
    "\n",
    "if accept_type==\"json\":\n",
    "    predictions = json.loads(response['Body'].read())\n",
    "elif accept_type==\"detectron2\":\n",
    "    print(response['Body'].read())\n",
    "    stream = BytesIO(response['Body'].read())\n",
    "    predictions = pickle.loads(stream.read())\n",
    "    \n",
    "print(predictions)\n"
   ]
  },
  {
   "cell_type": "code",
   "execution_count": null,
   "metadata": {},
   "outputs": [],
   "source": [
    "from detectron2.data import DatasetCatalog, MetadataCatalog\n",
    "from detectron2.data.datasets import register_coco_instances\n",
    "r = register_coco_instances(\"coco2017\", {}, \"json_annotation_val.json\", \"../datasets/coco/val2017\")\n",
    "metadata = MetadataCatalog.get(\"coco2017\")"
   ]
  },
  {
   "cell_type": "code",
   "execution_count": null,
   "metadata": {},
   "outputs": [],
   "source": [
    "!wget http://images.cocodataset.org/val2017/000000439715.jpg"
   ]
  },
  {
   "cell_type": "code",
   "execution_count": null,
   "metadata": {},
   "outputs": [],
   "source": [
    "from detectron2.utils.visualizer import ColorMode, Visualizer\n",
    "import cv2\n",
    "from google.colab.patches import cv2_imshow\n",
    "\n",
    "\n",
    "im = cv2.imread('coco_sample.jpg')\n",
    "v = Visualizer(im[:, :, ::-1],\n",
    "               metadata=MetadataCatalog.get(\"coco_2017_train\"), \n",
    "               scale=1.2, \n",
    ")\n",
    "v = v.draw_instance_predictions(predictions[\"instances\"].to(\"cpu\"))\n",
    "cv2_imshow(v.get_image()[:, :, ::-1])"
   ]
  },
  {
   "cell_type": "code",
   "execution_count": null,
   "metadata": {},
   "outputs": [],
   "source": [
    "predictor.delete_endpoint()"
   ]
  }
 ],
 "metadata": {
  "kernelspec": {
   "display_name": "conda_pytorch_p36",
   "language": "python",
   "name": "conda_pytorch_p36"
  },
  "language_info": {
   "codemirror_mode": {
    "name": "ipython",
    "version": 3
   },
   "file_extension": ".py",
   "mimetype": "text/x-python",
   "name": "python",
   "nbconvert_exporter": "python",
   "pygments_lexer": "ipython3",
   "version": "3.6.5"
  }
 },
 "nbformat": 4,
 "nbformat_minor": 4
}
