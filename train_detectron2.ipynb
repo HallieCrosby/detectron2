{
 "cells": [
  {
   "cell_type": "code",
   "execution_count": 1,
   "metadata": {},
   "outputs": [],
   "source": [
    "# Define IAM role\n",
    "import boto3\n",
    "import re\n",
    "\n",
    "import os\n",
    "import numpy as np\n",
    "import pandas as pd\n",
    "from sagemaker import get_execution_role\n",
    "\n",
    "role = get_execution_role()"
   ]
  },
  {
   "cell_type": "code",
   "execution_count": 2,
   "metadata": {},
   "outputs": [],
   "source": [
    "import sagemaker\n",
    "from time import gmtime, strftime\n",
    "\n",
    "sess = sagemaker.Session() # can use LocalSession() to run container locally\n",
    "\n",
    "bucket = sess.default_bucket()\n",
    "region = \"us-east-2\"\n",
    "prefix_input = 'detectron2-input'\n",
    "prefix_output = 'detectron2-ouput'"
   ]
  },
  {
   "cell_type": "markdown",
   "metadata": {},
   "source": [
    "# Upload data for training"
   ]
  },
  {
   "cell_type": "code",
   "execution_count": 32,
   "metadata": {},
   "outputs": [
    {
     "name": "stdout",
     "output_type": "stream",
     "text": [
      "fatal: destination path 'detectron2' already exists and is not an empty directory.\n"
     ]
    }
   ],
   "source": [
    "!git clone https://github.com/facebookresearch/detectron2"
   ]
  },
  {
   "cell_type": "code",
   "execution_count": null,
   "metadata": {},
   "outputs": [
    {
     "name": "stdout",
     "output_type": "stream",
     "text": [
      "Create stage directory: /home/ec2-user/SageMaker/coco-2017-2020-03-31-18-56-41\n",
      "--2020-03-31 18:56:41--  http://images.cocodataset.org/zips/train2017.zip\n",
      "Resolving images.cocodataset.org (images.cocodataset.org)... 52.216.184.211\n",
      "Connecting to images.cocodataset.org (images.cocodataset.org)|52.216.184.211|:80... connected.\n",
      "HTTP request sent, awaiting response... 200 OK\n",
      "Length: 19336861798 (18G) [application/zip]\n",
      "Saving to: ‘/home/ec2-user/SageMaker/coco-2017-2020-03-31-18-56-41/train2017.zip’\n",
      "\n",
      "/home/ec2-user/Sage 100%[===================>]  18.01G  36.3MB/s    in 9m 46s  \n",
      "\n",
      "2020-03-31 19:06:27 (31.5 MB/s) - ‘/home/ec2-user/SageMaker/coco-2017-2020-03-31-18-56-41/train2017.zip’ saved [19336861798/19336861798]\n",
      "\n",
      "./upload_coco2017_to_s3.sh: line 19: zips/train2017.zip: No such file or directory\n",
      "Extracting /home/ec2-user/SageMaker/coco-2017-2020-03-31-18-56-41/train2017.zip\n",
      "===================================================================================================================================================================================="
     ]
    }
   ],
   "source": [
    "! ./upload_coco2017_to_s3.sh \"sagemaker-us-east-2-553020858742\" \"detectron2/datasets/coco\""
   ]
  },
  {
   "cell_type": "code",
   "execution_count": 58,
   "metadata": {},
   "outputs": [
    {
     "name": "stdout",
     "output_type": "stream",
     "text": [
      "/home/ec2-user/SageMaker/detectron2-sagemaker/detectron2/datasets/coco/annotations/person_keypoints_val2017_100.json\n",
      "file person_keypoints_val2017_100.json has been uploaded to S3\n",
      "/home/ec2-user/SageMaker/detectron2-sagemaker/detectron2/datasets/coco/annotations/instances_minival2014_100.json\n",
      "file instances_minival2014_100.json has been uploaded to S3\n",
      "/home/ec2-user/SageMaker/detectron2-sagemaker/detectron2/datasets/coco/annotations/person_keypoints_minival2014_100.json\n",
      "file person_keypoints_minival2014_100.json has been uploaded to S3\n",
      "/home/ec2-user/SageMaker/detectron2-sagemaker/detectron2/datasets/coco/annotations/instances_val2017_100.json\n",
      "file instances_val2017_100.json has been uploaded to S3\n"
     ]
    }
   ],
   "source": [
    "# TODO: delete\n",
    "# upload directory with COCO dataset to S3 location\n",
    "\n",
    "import os\n",
    "import boto3\n",
    "\n",
    "s3_resource = boto3.resource(\"s3\", region_name=\"us-east-2\")\n",
    "root_path = os.getcwd()\n",
    "data_path = os.path.join(root_path, \"detectron2/datasets/coco\")\n",
    "\n",
    "\n",
    "\n",
    "for path, subdirs, files in os.walk(data_path):\n",
    "\n",
    "    directory_name = path.replace(root_path+\"/\",\"\")\n",
    "    for file in files:\n",
    "        print(os.path.join(root_path, directory_name, file))\n",
    "        s3_resource.Bucket(bucket).upload_file(os.path.join(root_path, directory_name, file), directory_name+'/'+file)\n",
    "        print(f\"file {file} has been uploaded to S3\")"
   ]
  },
  {
   "cell_type": "code",
   "execution_count": 4,
   "metadata": {},
   "outputs": [
    {
     "data": {
      "text/plain": [
       "'s3://sagemaker-us-east-2-553020858742/detectron2/datasets/coco/train'"
      ]
     },
     "execution_count": 4,
     "metadata": {},
     "output_type": "execute_result"
    }
   ],
   "source": [
    "f\"s3://{bucket}/detectron2/datasets/coco/train\""
   ]
  },
  {
   "cell_type": "code",
   "execution_count": 66,
   "metadata": {},
   "outputs": [
    {
     "name": "stdout",
     "output_type": "stream",
     "text": [
      "\u001b[37m#!/bin/bash -e\u001b[39;49;00m\n",
      "\u001b[37m# Copyright (c) Facebook, Inc. and its affiliates. All Rights Reserved\u001b[39;49;00m\n",
      "\n",
      "\u001b[37m# Download some files needed for running tests.\u001b[39;49;00m\n",
      "\n",
      "\u001b[36mcd\u001b[39;49;00m \u001b[33m\"\u001b[39;49;00m\u001b[33m${\u001b[39;49;00m\u001b[31m0\u001b[39;49;00m%/*\u001b[33m}\u001b[39;49;00m\u001b[33m\"\u001b[39;49;00m\n",
      "\n",
      "\u001b[31mBASE\u001b[39;49;00m=https://dl.fbaipublicfiles.com/detectron2\n",
      "mkdir -p coco/annotations\n",
      "\n",
      "\u001b[34mfor\u001b[39;49;00m anno in instances_val2017_100 \u001b[33m\\\u001b[39;49;00m\n",
      "  person_keypoints_val2017_100 \u001b[33m\\\u001b[39;49;00m\n",
      "  instances_minival2014_100 \u001b[33m\\\u001b[39;49;00m\n",
      "  person_keypoints_minival2014_100; \u001b[34mdo\u001b[39;49;00m\n",
      "\n",
      "  \u001b[31mdest\u001b[39;49;00m=coco/annotations/\u001b[31m$anno\u001b[39;49;00m.json\n",
      "  [[ -s \u001b[31m$dest\u001b[39;49;00m ]] && {\n",
      "    \u001b[36mecho\u001b[39;49;00m \u001b[33m\"\u001b[39;49;00m\u001b[31m$dest\u001b[39;49;00m\u001b[33m exists. Skipping ...\u001b[39;49;00m\u001b[33m\"\u001b[39;49;00m\n",
      "  } || {\n",
      "    wget \u001b[31m$BASE\u001b[39;49;00m/annotations/coco/\u001b[31m$anno\u001b[39;49;00m.json -O \u001b[31m$dest\u001b[39;49;00m\n",
      "  }\n",
      "\u001b[34mdone\u001b[39;49;00m\n"
     ]
    }
   ],
   "source": [
    "!pygmentize ./detectron2/datasets/prepare_for_tests.sh"
   ]
  },
  {
   "cell_type": "markdown",
   "metadata": {},
   "source": [
    "# Train your model"
   ]
  },
  {
   "cell_type": "code",
   "execution_count": null,
   "metadata": {},
   "outputs": [
    {
     "name": "stdout",
     "output_type": "stream",
     "text": [
      "2020-03-31 21:13:54 Starting - Starting the training job...\n",
      "2020-03-31 21:13:56 Starting - Launching requested ML instances...\n",
      "2020-03-31 21:14:53 Starting - Preparing the instances for training......\n",
      "2020-03-31 21:15:36 Downloading - Downloading input data.........\n",
      "2020-03-31 21:17:17 Training - Downloading the training image.................\u001b[34mbash: cannot set terminal process group (-1): Inappropriate ioctl for device\u001b[0m\n",
      "\u001b[34mbash: no job control in this shell\u001b[0m\n",
      "\u001b[34m2020-03-31 21:20:00,834 sagemaker-containers INFO     Imported framework sagemaker_pytorch_container.training\u001b[0m\n",
      "\u001b[34m2020-03-31 21:20:00,860 sagemaker_pytorch_container.training INFO     Block until all host DNS lookups succeed.\u001b[0m\n",
      "\u001b[34m2020-03-31 21:20:03,916 sagemaker_pytorch_container.training INFO     Invoking user training script.\u001b[0m\n",
      "\u001b[34m2020-03-31 21:20:04,346 sagemaker-containers INFO     Module default_user_module_name does not provide a setup.py. \u001b[0m\n",
      "\u001b[34mGenerating setup.py\u001b[0m\n",
      "\u001b[34m2020-03-31 21:20:04,346 sagemaker-containers INFO     Generating setup.cfg\u001b[0m\n",
      "\u001b[34m2020-03-31 21:20:04,346 sagemaker-containers INFO     Generating MANIFEST.in\u001b[0m\n",
      "\u001b[34m2020-03-31 21:20:04,347 sagemaker-containers INFO     Installing module with the following command:\u001b[0m\n",
      "\u001b[34m/opt/conda/bin/python -m pip install . \u001b[0m\n",
      "\u001b[34mProcessing /tmp/tmpe4lvx7ij/module_dir\u001b[0m\n",
      "\u001b[34mBuilding wheels for collected packages: default-user-module-name\n",
      "  Building wheel for default-user-module-name (setup.py): started\n",
      "  Building wheel for default-user-module-name (setup.py): finished with status 'done'\n",
      "  Created wheel for default-user-module-name: filename=default_user_module_name-1.0.0-py2.py3-none-any.whl size=4365 sha256=ef91e402b5d824e662737b4525c15f431486c4a10f68d9186fdd4fc88074e1af\n",
      "  Stored in directory: /tmp/pip-ephem-wheel-cache-rz028ji0/wheels/d4/34/ac/e59d8b5cbb8f73360e22dc7981ec4df059a1cc4926265288ec\u001b[0m\n",
      "\u001b[34mSuccessfully built default-user-module-name\u001b[0m\n",
      "\u001b[34mInstalling collected packages: default-user-module-name\u001b[0m\n",
      "\u001b[34mSuccessfully installed default-user-module-name-1.0.0\u001b[0m\n",
      "\u001b[34m2020-03-31 21:20:06,485 sagemaker-containers INFO     Invoking user script\n",
      "\u001b[0m\n",
      "\u001b[34mTraining Env:\n",
      "\u001b[0m\n",
      "\u001b[34m{\n",
      "    \"additional_framework_parameters\": {},\n",
      "    \"channel_input_dirs\": {\n",
      "        \"training\": \"/opt/ml/input/data/training\"\n",
      "    },\n",
      "    \"current_host\": \"algo-1\",\n",
      "    \"framework_module\": \"sagemaker_pytorch_container.training:main\",\n",
      "    \"hosts\": [\n",
      "        \"algo-1\"\n",
      "    ],\n",
      "    \"hyperparameters\": {\n",
      "        \"num_classes\": 2,\n",
      "        \"num_epochs\": 1\n",
      "    },\n",
      "    \"input_config_dir\": \"/opt/ml/input/config\",\n",
      "    \"input_data_config\": {\n",
      "        \"training\": {\n",
      "            \"TrainingInputMode\": \"File\",\n",
      "            \"S3DistributionType\": \"FullyReplicated\",\n",
      "            \"RecordWrapperType\": \"None\"\n",
      "        }\n",
      "    },\n",
      "    \"input_dir\": \"/opt/ml/input\",\n",
      "    \"is_master\": true,\n",
      "    \"job_name\": \"detectron2-sagemaker-2020-03-31-21-13-54-638\",\n",
      "    \"log_level\": 20,\n",
      "    \"master_hostname\": \"algo-1\",\n",
      "    \"model_dir\": \"/opt/ml/model\",\n",
      "    \"module_dir\": \"/opt/ml/code\",\n",
      "    \"module_name\": \"train\",\n",
      "    \"network_interface_name\": \"eth0\",\n",
      "    \"num_cpus\": 8,\n",
      "    \"num_gpus\": 1,\n",
      "    \"output_data_dir\": \"/opt/ml/output/data\",\n",
      "    \"output_dir\": \"/opt/ml/output\",\n",
      "    \"output_intermediate_dir\": \"/opt/ml/output/intermediate\",\n",
      "    \"resource_config\": {\n",
      "        \"current_host\": \"algo-1\",\n",
      "        \"hosts\": [\n",
      "            \"algo-1\"\n",
      "        ],\n",
      "        \"network_interface_name\": \"eth0\"\n",
      "    },\n",
      "    \"user_entry_point\": \"train\"\u001b[0m\n",
      "\u001b[34m}\n",
      "\u001b[0m\n",
      "\u001b[34mEnvironment variables:\n",
      "\u001b[0m\n",
      "\u001b[34mSM_HOSTS=[\"algo-1\"]\u001b[0m\n",
      "\u001b[34mSM_NETWORK_INTERFACE_NAME=eth0\u001b[0m\n",
      "\u001b[34mSM_HPS={\"num_classes\":2,\"num_epochs\":1}\u001b[0m\n",
      "\u001b[34mSM_USER_ENTRY_POINT=train\u001b[0m\n",
      "\u001b[34mSM_FRAMEWORK_PARAMS={}\u001b[0m\n",
      "\u001b[34mSM_RESOURCE_CONFIG={\"current_host\":\"algo-1\",\"hosts\":[\"algo-1\"],\"network_interface_name\":\"eth0\"}\u001b[0m\n",
      "\u001b[34mSM_INPUT_DATA_CONFIG={\"training\":{\"RecordWrapperType\":\"None\",\"S3DistributionType\":\"FullyReplicated\",\"TrainingInputMode\":\"File\"}}\u001b[0m\n",
      "\u001b[34mSM_OUTPUT_DATA_DIR=/opt/ml/output/data\u001b[0m\n",
      "\u001b[34mSM_CHANNELS=[\"training\"]\u001b[0m\n",
      "\u001b[34mSM_CURRENT_HOST=algo-1\u001b[0m\n",
      "\u001b[34mSM_MODULE_NAME=train\u001b[0m\n",
      "\u001b[34mSM_LOG_LEVEL=20\u001b[0m\n",
      "\u001b[34mSM_FRAMEWORK_MODULE=sagemaker_pytorch_container.training:main\u001b[0m\n",
      "\u001b[34mSM_INPUT_DIR=/opt/ml/input\u001b[0m\n",
      "\u001b[34mSM_INPUT_CONFIG_DIR=/opt/ml/input/config\u001b[0m\n",
      "\u001b[34mSM_OUTPUT_DIR=/opt/ml/output\u001b[0m\n",
      "\u001b[34mSM_NUM_CPUS=8\u001b[0m\n",
      "\u001b[34mSM_NUM_GPUS=1\u001b[0m\n",
      "\u001b[34mSM_MODEL_DIR=/opt/ml/model\u001b[0m\n",
      "\u001b[34mSM_MODULE_DIR=/opt/ml/code\u001b[0m\n",
      "\u001b[34mSM_TRAINING_ENV={\"additional_framework_parameters\":{},\"channel_input_dirs\":{\"training\":\"/opt/ml/input/data/training\"},\"current_host\":\"algo-1\",\"framework_module\":\"sagemaker_pytorch_container.training:main\",\"hosts\":[\"algo-1\"],\"hyperparameters\":{\"num_classes\":2,\"num_epochs\":1},\"input_config_dir\":\"/opt/ml/input/config\",\"input_data_config\":{\"training\":{\"RecordWrapperType\":\"None\",\"S3DistributionType\":\"FullyReplicated\",\"TrainingInputMode\":\"File\"}},\"input_dir\":\"/opt/ml/input\",\"is_master\":true,\"job_name\":\"detectron2-sagemaker-2020-03-31-21-13-54-638\",\"log_level\":20,\"master_hostname\":\"algo-1\",\"model_dir\":\"/opt/ml/model\",\"module_dir\":\"/opt/ml/code\",\"module_name\":\"train\",\"network_interface_name\":\"eth0\",\"num_cpus\":8,\"num_gpus\":1,\"output_data_dir\":\"/opt/ml/output/data\",\"output_dir\":\"/opt/ml/output\",\"output_intermediate_dir\":\"/opt/ml/output/intermediate\",\"resource_config\":{\"current_host\":\"algo-1\",\"hosts\":[\"algo-1\"],\"network_interface_name\":\"eth0\"},\"user_entry_point\":\"train\"}\u001b[0m\n",
      "\u001b[34mSM_USER_ARGS=[\"--num_classes\",\"2\",\"--num_epochs\",\"1\"]\u001b[0m\n",
      "\u001b[34mSM_OUTPUT_INTERMEDIATE_DIR=/opt/ml/output/intermediate\u001b[0m\n",
      "\u001b[34mSM_CHANNEL_TRAINING=/opt/ml/input/data/training\u001b[0m\n",
      "\u001b[34mSM_HP_NUM_CLASSES=2\u001b[0m\n",
      "\u001b[34mSM_HP_NUM_EPOCHS=1\u001b[0m\n",
      "\u001b[34mPYTHONPATH=/opt/ml/code:/opt/conda/bin:/opt/conda/lib/python36.zip:/opt/conda/lib/python3.6:/opt/conda/lib/python3.6/lib-dynload:/root/.local/lib/python3.6/site-packages:/opt/ml/code/detectron2:/opt/conda/lib/python3.6/site-packages\n",
      "\u001b[0m\n",
      "\u001b[34mInvoking script with the following command:\n",
      "\u001b[0m\n",
      "\u001b[34m/bin/sh -c ./train --num_classes 2 --num_epochs 1\n",
      "\n",
      "\u001b[0m\n",
      "\u001b[34mCommand Line Args: Namespace(config_file='../configs/COCO-InstanceSegmentation/mask_rcnn_R_50_FPN_1x.yaml', dist_url='tcp://127.0.0.1:49152', eval_only=False, machine_rank=0, num_gpus=1, num_machines=1, opts=[], resume=False)\u001b[0m\n",
      "\n",
      "2020-03-31 21:19:59 Training - Training image download completed. Training in progress.\u001b[34m#015R-50.pkl: 0.00B [00:00, ?B/s]#015R-50.pkl:   0%|          | 8.19k/102M [00:00<1:51:53, 15.3kB/s]#015R-50.pkl:   0%|          | 57.3k/102M [00:00<1:19:46, 21.4kB/s]#015R-50.pkl:   0%|          | 303k/102M [00:00<56:00, 30.4kB/s]   #015R-50.pkl:   1%|          | 1.25M/102M [00:00<38:55, 43.3kB/s]#015R-50.pkl:   4%|▍         | 4.23M/102M [00:01<26:27, 61.9kB/s]#015R-50.pkl:   8%|▊         | 7.86M/102M [00:01<17:51, 88.3kB/s]#015R-50.pkl:  11%|█         | 11.3M/102M [00:01<12:03, 126kB/s] #015R-50.pkl:  15%|█▍        | 15.1M/102M [00:01<08:06, 180kB/s]#015R-50.pkl:  18%|█▊        | 18.2M/102M [00:01<05:29, 256kB/s]#015R-50.pkl:  20%|██        | 20.7M/102M [00:01<03:44, 364kB/s]#015R-50.pkl:  23%|██▎       | 24.1M/102M [00:01<02:31, 517kB/s]#015R-50.pkl:  26%|██▌       | 26.8M/102M [00:01<01:43, 732kB/s]#015R-50.pkl:  28%|██▊       | 29.0M/102M [00:02<01:11, 1.03MB/s]#015R-50.pkl:  32%|███▏      | 32.4M/102M [00:02<00:48, 1.45MB/s]#015R-50.pkl:  35%|███▍      | 35.4M/102M [00:02<00:33, 2.03MB/s]#015R-50.pkl:  37%|███▋      | 38.3M/102M [00:02<00:22, 2.80MB/s]#015R-50.pkl:  41%|████      | 41.5M/102M [00:02<00:15, 3.86MB/s]#015R-50.pkl:  43%|████▎     | 44.1M/102M [00:02<00:11, 5.12MB/s]#015R-50.pkl:  47%|████▋     | 47.8M/102M [00:02<00:07, 6.90MB/s]#015R-50.pkl:  49%|████▉     | 50.1M/102M [00:02<00:06, 8.60MB/s]#015R-50.pkl:  52%|█████▏    | 53.6M/102M [00:02<00:04, 11.1MB/s]#015R-50.pkl:  55%|█████▍    | 56.1M/102M [00:03<00:03, 13.0MB/s]#015R-50.pkl:  58%|█████▊    | 59.8M/102M [00:03<00:02, 16.1MB/s]#015R-50.pkl:  61%|██████    | 62.3M/102M [00:03<00:02, 17.5MB/s]#015R-50.pkl:  64%|██████▎   | 65.3M/102M [00:03<00:01, 20.0MB/s]#015R-50.pkl:  67%|██████▋   | 68.3M/102M [00:03<00:01, 21.4MB/s]#015R-50.pkl:  70%|██████▉   | 71.6M/102M [00:03<00:01, 23.9MB/s]#015R-50.pkl:  72%|███████▏  | 74.3M/102M [00:03<00:01, 23.8MB/s]#015R-50.pkl:  76%|███████▌  | 77.6M/102M [00:03<00:00, 25.8MB/s]#015R-50.pkl:  78%|███████▊  | 80.3M/102M [00:03<00:00, 25.3MB/s]#015R-50.pkl:  81%|████████  | 83.2M/102M [00:04<00:00, 26.2MB/s]#015R-50.pkl:  84%|████████▍ | 86.4M/102M [00:04<00:00, 26.5MB/s]#015R-50.pkl:  87%|████████▋ | 89.3M/102M [00:04<00:00, 27.2MB/s]#015R-50.pkl:  90%|████████▉ | 92.2M/102M [00:04<00:00, 26.7MB/s]#015R-50.pkl:  93%|█████████▎| 95.2M/102M [00:04<00:00, 27.7MB/s]#015R-50.pkl:  96%|█████████▌| 98.2M/102M [00:04<00:00, 27.0MB/s]#015R-50.pkl:  99%|█████████▉| 101M/102M [00:04<00:00, 28.0MB/s] #015R-50.pkl: 102MB [00:04, 21.8MB/s]                           \u001b[0m\n",
      "\u001b[34m#033[32m[03/31 21:20:09 detectron2]: #033[0mRank of current process: 0. World size: 1\u001b[0m\n"
     ]
    }
   ],
   "source": [
    "account = sess.boto_session.client('sts').get_caller_identity()['Account']\n",
    "region = \"us-east-2\"\n",
    "image = '{}.dkr.ecr.{}.amazonaws.com/detectron2-sagemaker:latest'.format(account, region)\n",
    "\n",
    "d2 = sagemaker.estimator.Estimator(image,\n",
    "                                   role=role,\n",
    "                                   train_instance_count=1, \n",
    "                                   train_instance_type='ml.p3.2xlarge',\n",
    "                                   train_volume_size=100,\n",
    "                                   output_path=\"s3://{}/{}\".format(sess.default_bucket(), prefix_output),\n",
    "                                   sagemaker_session=sess)\n",
    "\n",
    "d2.set_hyperparameters(num_epochs = 1, num_classes = 2, )\n",
    "\n",
    "d2.fit(f\"s3://{bucket}/detectron2/datasets\") "
   ]
  },
  {
   "cell_type": "code",
   "execution_count": 61,
   "metadata": {},
   "outputs": [],
   "source": [
    "#TODO fix the issue with hostnames: https://github.com/aws/sagemaker-pytorch-container/issues/143\n"
   ]
  },
  {
   "cell_type": "code",
   "execution_count": null,
   "metadata": {},
   "outputs": [],
   "source": []
  }
 ],
 "metadata": {
  "kernelspec": {
   "display_name": "conda_pytorch_p36",
   "language": "python",
   "name": "conda_pytorch_p36"
  },
  "language_info": {
   "codemirror_mode": {
    "name": "ipython",
    "version": 3
   },
   "file_extension": ".py",
   "mimetype": "text/x-python",
   "name": "python",
   "nbconvert_exporter": "python",
   "pygments_lexer": "ipython3",
   "version": "3.6.5"
  }
 },
 "nbformat": 4,
 "nbformat_minor": 4
}
