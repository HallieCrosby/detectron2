{
 "cells": [
  {
   "cell_type": "code",
   "execution_count": 1,
   "metadata": {},
   "outputs": [],
   "source": [
    "# Define IAM role\n",
    "import boto3\n",
    "import re\n",
    "\n",
    "import os\n",
    "import numpy as np\n",
    "import pandas as pd\n",
    "from sagemaker import get_execution_role\n",
    "\n",
    "role = get_execution_role()"
   ]
  },
  {
   "cell_type": "code",
   "execution_count": 2,
   "metadata": {},
   "outputs": [],
   "source": [
    "import sagemaker\n",
    "from time import gmtime, strftime\n",
    "\n",
    "sess = sagemaker.Session() # can use LocalSession() to run container locally\n",
    "\n",
    "bucket = sess.default_bucket()\n",
    "region = \"us-east-2\"\n",
    "prefix_input = 'detectron2-input'\n",
    "prefix_output = 'detectron2-ouput'"
   ]
  },
  {
   "cell_type": "markdown",
   "metadata": {},
   "source": [
    "# Upload data for training"
   ]
  },
  {
   "cell_type": "code",
   "execution_count": 32,
   "metadata": {},
   "outputs": [
    {
     "name": "stdout",
     "output_type": "stream",
     "text": [
      "fatal: destination path 'detectron2' already exists and is not an empty directory.\n"
     ]
    }
   ],
   "source": [
    "!git clone https://github.com/facebookresearch/detectron2"
   ]
  },
  {
   "cell_type": "code",
   "execution_count": null,
   "metadata": {},
   "outputs": [
    {
     "name": "stdout",
     "output_type": "stream",
     "text": [
      "Create stage directory: /home/ec2-user/SageMaker/coco-2017-2020-03-31-18-56-41\n",
      "--2020-03-31 18:56:41--  http://images.cocodataset.org/zips/train2017.zip\n",
      "Resolving images.cocodataset.org (images.cocodataset.org)... 52.216.184.211\n",
      "Connecting to images.cocodataset.org (images.cocodataset.org)|52.216.184.211|:80... connected.\n",
      "HTTP request sent, awaiting response... 200 OK\n",
      "Length: 19336861798 (18G) [application/zip]\n",
      "Saving to: ‘/home/ec2-user/SageMaker/coco-2017-2020-03-31-18-56-41/train2017.zip’\n",
      "\n",
      "/home/ec2-user/Sage 100%[===================>]  18.01G  36.3MB/s    in 9m 46s  \n",
      "\n",
      "2020-03-31 19:06:27 (31.5 MB/s) - ‘/home/ec2-user/SageMaker/coco-2017-2020-03-31-18-56-41/train2017.zip’ saved [19336861798/19336861798]\n",
      "\n",
      "./upload_coco2017_to_s3.sh: line 19: zips/train2017.zip: No such file or directory\n",
      "Extracting /home/ec2-user/SageMaker/coco-2017-2020-03-31-18-56-41/train2017.zip\n",
      "===================================================================================================================================================================================="
     ]
    }
   ],
   "source": [
    "! ./upload_coco2017_to_s3.sh \"sagemaker-us-east-2-553020858742\" \"detectron2/datasets/coco\""
   ]
  },
  {
   "cell_type": "code",
   "execution_count": 58,
   "metadata": {},
   "outputs": [
    {
     "name": "stdout",
     "output_type": "stream",
     "text": [
      "/home/ec2-user/SageMaker/detectron2-sagemaker/detectron2/datasets/coco/annotations/person_keypoints_val2017_100.json\n",
      "file person_keypoints_val2017_100.json has been uploaded to S3\n",
      "/home/ec2-user/SageMaker/detectron2-sagemaker/detectron2/datasets/coco/annotations/instances_minival2014_100.json\n",
      "file instances_minival2014_100.json has been uploaded to S3\n",
      "/home/ec2-user/SageMaker/detectron2-sagemaker/detectron2/datasets/coco/annotations/person_keypoints_minival2014_100.json\n",
      "file person_keypoints_minival2014_100.json has been uploaded to S3\n",
      "/home/ec2-user/SageMaker/detectron2-sagemaker/detectron2/datasets/coco/annotations/instances_val2017_100.json\n",
      "file instances_val2017_100.json has been uploaded to S3\n"
     ]
    }
   ],
   "source": [
    "# TODO: delete\n",
    "# upload directory with COCO dataset to S3 location\n",
    "\n",
    "import os\n",
    "import boto3\n",
    "\n",
    "s3_resource = boto3.resource(\"s3\", region_name=\"us-east-2\")\n",
    "root_path = os.getcwd()\n",
    "data_path = os.path.join(root_path, \"detectron2/datasets/coco\")\n",
    "\n",
    "\n",
    "\n",
    "for path, subdirs, files in os.walk(data_path):\n",
    "    directory_name = path.replace(root_path+\"/\",\"\")\n",
    "    for file in files:\n",
    "        print(os.path.join(root_path, directory_name, file))\n",
    "        s3_resource.Bucket(bucket).upload_file(os.path.join(root_path, directory_name, file), directory_name+'/'+file)\n",
    "        print(f\"file {file} has been uploaded to S3\")"
   ]
  },
  {
   "cell_type": "code",
   "execution_count": 4,
   "metadata": {},
   "outputs": [
    {
     "data": {
      "text/plain": [
       "'s3://sagemaker-us-east-2-553020858742/detectron2/datasets/coco/train'"
      ]
     },
     "execution_count": 4,
     "metadata": {},
     "output_type": "execute_result"
    }
   ],
   "source": [
    "f\"s3://{bucket}/detectron2/datasets/coco/train\""
   ]
  },
  {
   "cell_type": "code",
   "execution_count": 66,
   "metadata": {},
   "outputs": [
    {
     "name": "stdout",
     "output_type": "stream",
     "text": [
      "\u001b[37m#!/bin/bash -e\u001b[39;49;00m\n",
      "\u001b[37m# Copyright (c) Facebook, Inc. and its affiliates. All Rights Reserved\u001b[39;49;00m\n",
      "\n",
      "\u001b[37m# Download some files needed for running tests.\u001b[39;49;00m\n",
      "\n",
      "\u001b[36mcd\u001b[39;49;00m \u001b[33m\"\u001b[39;49;00m\u001b[33m${\u001b[39;49;00m\u001b[31m0\u001b[39;49;00m%/*\u001b[33m}\u001b[39;49;00m\u001b[33m\"\u001b[39;49;00m\n",
      "\n",
      "\u001b[31mBASE\u001b[39;49;00m=https://dl.fbaipublicfiles.com/detectron2\n",
      "mkdir -p coco/annotations\n",
      "\n",
      "\u001b[34mfor\u001b[39;49;00m anno in instances_val2017_100 \u001b[33m\\\u001b[39;49;00m\n",
      "  person_keypoints_val2017_100 \u001b[33m\\\u001b[39;49;00m\n",
      "  instances_minival2014_100 \u001b[33m\\\u001b[39;49;00m\n",
      "  person_keypoints_minival2014_100; \u001b[34mdo\u001b[39;49;00m\n",
      "\n",
      "  \u001b[31mdest\u001b[39;49;00m=coco/annotations/\u001b[31m$anno\u001b[39;49;00m.json\n",
      "  [[ -s \u001b[31m$dest\u001b[39;49;00m ]] && {\n",
      "    \u001b[36mecho\u001b[39;49;00m \u001b[33m\"\u001b[39;49;00m\u001b[31m$dest\u001b[39;49;00m\u001b[33m exists. Skipping ...\u001b[39;49;00m\u001b[33m\"\u001b[39;49;00m\n",
      "  } || {\n",
      "    wget \u001b[31m$BASE\u001b[39;49;00m/annotations/coco/\u001b[31m$anno\u001b[39;49;00m.json -O \u001b[31m$dest\u001b[39;49;00m\n",
      "  }\n",
      "\u001b[34mdone\u001b[39;49;00m\n"
     ]
    }
   ],
   "source": [
    "!pygmentize ./detectron2/datasets/prepare_for_tests.sh"
   ]
  },
  {
   "cell_type": "markdown",
   "metadata": {},
   "source": [
    "# Train your model"
   ]
  },
  {
   "cell_type": "code",
   "execution_count": null,
   "metadata": {},
   "outputs": [
    {
     "name": "stdout",
     "output_type": "stream",
     "text": [
      "2020-04-07 15:41:59 Starting - Starting the training job...\n",
      "2020-04-07 15:42:00 Starting - Launching requested ML instances......\n",
      "2020-04-07 15:43:25 Starting - Preparing the instances for training......\n",
      "2020-04-07 15:44:26 Downloading - Downloading input data...\n",
      "2020-04-07 15:44:32 Training - Downloading the training image........"
     ]
    }
   ],
   "source": [
    "account = sess.boto_session.client('sts').get_caller_identity()['Account']\n",
    "region = \"us-east-2\"\n",
    "container = \"d2-sm-base\"\n",
    "image = '{}.dkr.ecr.{}.amazonaws.com/{}:latest'.format(account, region, container)\n",
    "\n",
    "d2 = sagemaker.estimator.Estimator(image,\n",
    "                                   role=role,\n",
    "                                   train_instance_count=1, \n",
    "                                   train_instance_type='ml.p3.2xlarge',\n",
    "                                   train_volume_size=100,\n",
    "                                   output_path=\"s3://{}/{}\".format(sess.default_bucket(), prefix_output),\n",
    "                                   sagemaker_session=sess)\n",
    "\n",
    "d2.set_hyperparameters(num_epochs = 1, num_classes = 2, )\n",
    "\n",
    "d2.fit({'train':\"s3://sagemaker-us-east-2-553020858742/balloon/train\",\n",
    "        'val':\"s3://sagemaker-us-east-2-553020858742/balloon/val\"}) "
   ]
  },
  {
   "cell_type": "code",
   "execution_count": 61,
   "metadata": {},
   "outputs": [],
   "source": [
    "#TODO fix the issue with hostnames: https://github.com/aws/sagemaker-pytorch-container/issues/143\n"
   ]
  },
  {
   "cell_type": "code",
   "execution_count": null,
   "metadata": {},
   "outputs": [],
   "source": []
  }
 ],
 "metadata": {
  "kernelspec": {
   "display_name": "conda_pytorch_p36",
   "language": "python",
   "name": "conda_pytorch_p36"
  },
  "language_info": {
   "codemirror_mode": {
    "name": "ipython",
    "version": 3
   },
   "file_extension": ".py",
   "mimetype": "text/x-python",
   "name": "python",
   "nbconvert_exporter": "python",
   "pygments_lexer": "ipython3",
   "version": "3.6.5"
  }
 },
 "nbformat": 4,
 "nbformat_minor": 4
}
