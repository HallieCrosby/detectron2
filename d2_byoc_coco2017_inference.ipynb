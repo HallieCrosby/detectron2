{
 "cells": [
  {
   "cell_type": "markdown",
   "metadata": {},
   "source": [
    "# Hosting Detectron2 model on Sagemaker Inference endpoint\n",
    "\n",
    "In this notebook we'll package previously trained model into PyTorch Serving container and deploy it on Sagemaker. First, let's review serving container. There are two key difference comparing to training container:\n",
    "- we are using different base container provided by Sagemaker;\n",
    "- we need to start Web server (refer to ENTRYPOINT command)."
   ]
  },
  {
   "cell_type": "markdown",
   "metadata": {},
   "source": [
    "## Compiling Serving Container"
   ]
  },
  {
   "cell_type": "code",
   "execution_count": null,
   "metadata": {},
   "outputs": [],
   "source": [
    "! pygmentize -l docker Dockerfile.serving"
   ]
  },
  {
   "cell_type": "markdown",
   "metadata": {},
   "source": [
    "As in case of training image, we'll need to build and push container to AWS ECR. Before this, we'll need to loging to shared Sagemaker ECR and your local ECR"
   ]
  },
  {
   "cell_type": "code",
   "execution_count": null,
   "metadata": {},
   "outputs": [],
   "source": [
    "# loging to Sagemaker ECR with Deep Learning Containers\n",
    "!aws ecr get-login-password --region us-east-2 | docker login --username AWS --password-stdin 763104351884.dkr.ecr.us-east-2.amazonaws.com\n",
    "# loging to your private ECR\n",
    "!aws ecr get-login-password --region us-east-2 | docker login --username AWS --password-stdin 553020858742.dkr.ecr.us-east-2.amazonaws.com"
   ]
  },
  {
   "cell_type": "markdown",
   "metadata": {},
   "source": [
    "Now, let's build and push container using follow command. Note, that here we supply non-default Dockerfile."
   ]
  },
  {
   "cell_type": "code",
   "execution_count": null,
   "metadata": {},
   "outputs": [],
   "source": [
    "! ./build_and_push.sh d2-sm-coco-serving latest Dockerfile.serving"
   ]
  },
  {
   "cell_type": "markdown",
   "metadata": {},
   "source": [
    "## Preparing test data\n",
    "\n",
    "We'll be using coco2017 validation dataset. To simplify working with it, let's install locally Pycoco package"
   ]
  },
  {
   "cell_type": "code",
   "execution_count": null,
   "metadata": {},
   "outputs": [],
   "source": [
    "!pip install 'git+https://github.com/cocodataset/cocoapi.git#subdirectory=PythonAPI'"
   ]
  },
  {
   "cell_type": "code",
   "execution_count": null,
   "metadata": {},
   "outputs": [],
   "source": [
    "!pip install -U scikit-image"
   ]
  },
  {
   "cell_type": "markdown",
   "metadata": {},
   "source": [
    "Now, let's download Coco2017 validation dataset"
   ]
  },
  {
   "cell_type": "code",
   "execution_count": null,
   "metadata": {},
   "outputs": [],
   "source": [
    "data_dir = \"../datasets/coco/\" # folder where data will be saved\n",
    "dataset  = \"val2017\""
   ]
  },
  {
   "cell_type": "code",
   "execution_count": null,
   "metadata": {},
   "outputs": [],
   "source": [
    "! mkdir -p {data_dir}{dataset}\n",
    "! wget http://images.cocodataset.org/zips/val2017.zip -P {data_dir}\n",
    "! unzip {data_dir}/val2017.zip -d {data_dir}"
   ]
  },
  {
   "cell_type": "code",
   "execution_count": null,
   "metadata": {},
   "outputs": [],
   "source": [
    "! wget http://images.cocodataset.org/annotations/annotations_trainval2017.zip -P {data_dir}\n",
    "! unzip {data_dir}/annotations_trainval2017.zip -d {data_dir}{dataset}"
   ]
  },
  {
   "cell_type": "markdown",
   "metadata": {},
   "source": [
    "Let's get a random image ..."
   ]
  },
  {
   "cell_type": "code",
   "execution_count": null,
   "metadata": {},
   "outputs": [],
   "source": [
    "%matplotlib inline\n",
    "from pycocotools.coco import COCO\n",
    "import numpy as np\n",
    "import skimage.io as io\n",
    "import matplotlib.pyplot as plt\n",
    "import pylab\n",
    "pylab.rcParams['figure.figsize'] = (8.0, 10.0)\n",
    "\n",
    "annFile='{}{}/annotations/instances_{}.json'.format(data_dir,dataset, dataset)\n",
    "coco=COCO(annFile)\n",
    "\n",
    "# get all images containing given categories, select one at random\n",
    "catIds = coco.getCatIds(catNms=['person','dog']);\n",
    "imgIds = coco.getImgIds(catIds=catIds);\n",
    "imgId = imgIds[np.random.randint(len(imgIds))]\n",
    "image_instance = coco.loadImgs(imgId)[0]\n",
    "image_np = io.imread(image_instance['coco_url'])    "
   ]
  },
  {
   "cell_type": "code",
   "execution_count": null,
   "metadata": {},
   "outputs": [],
   "source": [
    "plt.axis('off')\n",
    "plt.imshow(image_np)\n",
    "plt.show()"
   ]
  },
  {
   "cell_type": "markdown",
   "metadata": {},
   "source": [
    "# Testing inference script locally\n",
    "\n",
    "Let's first check what inference script we'll deploy:"
   ]
  },
  {
   "cell_type": "code",
   "execution_count": null,
   "metadata": {},
   "outputs": [],
   "source": [
    "!pip install sagemaker-inference"
   ]
  },
  {
   "cell_type": "code",
   "execution_count": null,
   "metadata": {},
   "outputs": [],
   "source": [
    "!pygmentize container_serving/predict_coco.py"
   ]
  },
  {
   "cell_type": "markdown",
   "metadata": {},
   "source": [
    "To test inference pipeline locally, you can run your `container_serving/predict_coco.py` locally (only code in __main__ guard will be executed). You'll need to have Detectron2 and number other packages locally installed to test it.\n",
    "\n",
    "Make sure that you pass correct --model-dir argument."
   ]
  },
  {
   "cell_type": "code",
   "execution_count": null,
   "metadata": {},
   "outputs": [],
   "source": [
    "!python container_serving/predict_coco.py --image container_serving/coco_sample.jpg --model-dir ../trained_model"
   ]
  },
  {
   "cell_type": "markdown",
   "metadata": {},
   "source": [
    "# Deploying Inference Endpoint\n",
    "\n",
    "Below is some initial imports and configuration."
   ]
  },
  {
   "cell_type": "code",
   "execution_count": 3,
   "metadata": {},
   "outputs": [],
   "source": [
    "import boto3\n",
    "import re\n",
    "\n",
    "import os\n",
    "import numpy as np\n",
    "import pandas as pd\n",
    "from sagemaker import get_execution_role\n",
    "\n",
    "role = get_execution_role()"
   ]
  },
  {
   "cell_type": "code",
   "execution_count": 4,
   "metadata": {},
   "outputs": [],
   "source": [
    "import sagemaker\n",
    "from time import gmtime, strftime\n",
    "\n",
    "sess = sagemaker.Session() # can use LocalSession() to run container locally\n",
    "\n",
    "bucket = sess.default_bucket()\n",
    "region = \"us-east-2\"\n",
    "account = sess.boto_session.client('sts').get_caller_identity()['Account']\n",
    "prefix_input = 'detectron2-input'\n",
    "prefix_output = 'detectron2-ouput'"
   ]
  },
  {
   "cell_type": "markdown",
   "metadata": {},
   "source": [
    "## Define parameters of your container"
   ]
  },
  {
   "cell_type": "code",
   "execution_count": 5,
   "metadata": {},
   "outputs": [
    {
     "name": "stdout",
     "output_type": "stream",
     "text": [
      "Following container will be used for hosting:  553020858742.dkr.ecr.us-east-2.amazonaws.com/d2-sm-coco-serving:latest\n"
     ]
    }
   ],
   "source": [
    "container_serving = \"d2-sm-coco-serving\" # your container name\n",
    "tag = \"latest\" # you can have several version of container available\n",
    "image = '{}.dkr.ecr.{}.amazonaws.com/{}:{}'.format(account, region, container_serving, tag)\n",
    "\n",
    "print(\"Following container will be used for hosting: \",image)"
   ]
  },
  {
   "cell_type": "markdown",
   "metadata": {},
   "source": [
    "## Deploy endpoint locally\n",
    "\n",
    "As training on COCO2017 can be quite lenghty, we'll deploy our endpoint from model artifacts from already completed training jobs. Please review your training jobs, and find one which succesffuly completed. Then, copy model artifact S3 URI and.  pass it to `model_data` argument below."
   ]
  },
  {
   "cell_type": "code",
   "execution_count": 4,
   "metadata": {},
   "outputs": [],
   "source": [
    "from sagemaker.pytorch import PyTorchModel, PyTorch, PyTorchPredictor\n",
    "from sagemaker import Model\n",
    "\n",
    "# model = Model(model_data=\"s3://sagemaker-us-east-2-553020858742/detectron2-model/model_R_50_FPN_1x.tar.gz\",\n",
    "#               role=role,\n",
    "#               image=image)\n",
    "\n",
    "model = PyTorchModel(\n",
    "#                     model_data=\"s3://sagemaker-us-east-2-553020858742/detectron2-model/model.tar.gz\", #default D2 model\n",
    "                     model_data=\"s3://sagemaker-us-east-2-553020858742/detectron2-model/model_R_50_FPN_1x.tar.gz\", # from training job\n",
    "                     role=role,\n",
    "                     entry_point=\"predict_coco.py\", source_dir=\"container_serving\",\n",
    "                     framework_version=\"1.4\", py_version=\"3.6\",\n",
    "                     image=image)"
   ]
  },
  {
   "cell_type": "code",
   "execution_count": null,
   "metadata": {},
   "outputs": [],
   "source": [
    "predictor = model.deploy(\n",
    "                         instance_type = 'local_gpu',\n",
    "                         initial_instance_count=1,\n",
    "                         endpoint_name=f\"{container_serving}-{tag}\", # define a unqie endpoint name; if ommited, Sagemaker will generate it based on used container\n",
    "                         tags=[{\"Key\":\"image\", \"Value\":f\"{container_serving}:{tag}\"}], \n",
    "                         wait=False\n",
    "                         )"
   ]
  },
  {
   "cell_type": "code",
   "execution_count": 25,
   "metadata": {},
   "outputs": [
    {
     "name": "stdout",
     "output_type": "stream",
     "text": [
      "b'\\x80\\x03}q\\x00X\\t\\x00\\x00\\x00instancesq\\x01cdetectron2.structures.instances\\nInstances\\nq\\x02)\\x81q\\x03}q\\x04(X\\x0b\\x00\\x00\\x00_image_sizeq\\x05M\\xe0\\x01M\\x80\\x02\\x86q\\x06X\\x07\\x00\\x00\\x00_fieldsq\\x07}q\\x08(X\\n\\x00\\x00\\x00pred_boxesq\\tcdetectron2.structures.boxes\\nBoxes\\nq\\n)\\x81q\\x0b}q\\x0cX\\x06\\x00\\x00\\x00tensorq\\rctorch._utils\\n_rebuild_tensor_v2\\nq\\x0e(ctorch.storage\\n_load_from_bytes\\nq\\x0fB.\\x02\\x00\\x00\\x80\\x02\\x8a\\nl\\xfc\\x9cF\\xf9 j\\xa8P\\x19.\\x80\\x02M\\xe9\\x03.\\x80\\x02}q\\x00(X\\x10\\x00\\x00\\x00protocol_versionq\\x01M\\xe9\\x03X\\r\\x00\\x00\\x00little_endianq\\x02\\x88X\\n\\x00\\x00\\x00type_sizesq\\x03}q\\x04(X\\x05\\x00\\x00\\x00shortq\\x05K\\x02X\\x03\\x00\\x00\\x00intq\\x06K\\x04X\\x04\\x00\\x00\\x00longq\\x07K\\x04uu.\\x80\\x02(X\\x07\\x00\\x00\\x00storageq\\x00ctorch\\nFloatStorage\\nq\\x01X\\x0e\\x00\\x00\\x0094519452522384q\\x02X\\x06\\x00\\x00\\x00cuda:0q\\x03KLNtq\\x04Q.\\x80\\x02]q\\x00X\\x0e\\x00\\x00\\x0094519452522384q\\x01a.L\\x00\\x00\\x00\\x00\\x00\\x00\\x00k\\xfc\\xb0Cx\\xa2.C\\xf3\\xfc\\xbaC=\\xf3XC\\xb7\\xe1?B\\xb3y\\xb7Ca\\x13\\x91B\\x1f\\xa4\\xcfCz+\\xf5ANn\\xb7C=H`B|\\xb0\\xd0C\\xba\\xec\\xb9C\\xbe\\xb28C\\x87\\xc7\\xbeC\\x8bLKC\\x04\\xf1\\x8dA\\x1e\\x1a\\xbcC\\xb8\\xd6\\x94B7G\\xc9Ca\\xd8\\xe8Ai\\xac\\xc1C\\x81\\xcd\\xbbB\\xfd\\xc7\\xcfC\\xd6M\\xcfC\\xe8X\\xb4C\\x98\\x9c\\xd3C\\xe0\\xe2\\xbdC\\xb8y\\xbdC\\x95\\xeeSC*m\\xd9CG\\rpC:\\xaf\\xfdC\\x8e\\x00\\xe8Cq\\x7f\\x05D\\x98\\xdd\\xedC\\xe7\\x91\\x11B\\x81<\\xb4C\"&qB#\\xf8\\xcaC>\\xc8\\xceCu<\\xb1C\\xe8?\\xd4C^\\xe2\\xbaC\\xd8(\\xc9C\\xf0\\xc3SC\\xdd1\\xd5C\\x8f\\xf3\\x80C\\x81\\xbe\\x93C\\x00\\xbd`C\\xe2\\xe1\\x98C\\xc7\\xacwC\\xef\\t9Bt\\x04\\xb0CV\\n\\x8eBR\\xf5\\xc7C\\x013\\x98C~taC\\x9e\\xa9\\x9dC\\xbd-vC\\xfd&\\xb6C::%C\\xa1\\x8c\\xc0CI\\xef[C\\x0eChB\\xa80\\xb7C\\xa3\\xeb\\xa9B\\x02!\\xceC\\xc3\\xfc\\xbaC\\xbe\\xe2*CxJ\\xc4C\\x11\\x84]C\\x9f2\\xc8C\\x94l<C\\x9c\\x93\\xd3C\\xde\\xa9vCq\\x10\\x85q\\x11Rq\\x12K\\x00K\\x13K\\x04\\x86q\\x13K\\x04K\\x01\\x86q\\x14\\x89ccollections\\nOrderedDict\\nq\\x15)Rq\\x16tq\\x17Rq\\x18sbX\\x06\\x00\\x00\\x00scoresq\\x19h\\x0e(h\\x0fBJ\\x01\\x00\\x00\\x80\\x02\\x8a\\nl\\xfc\\x9cF\\xf9 j\\xa8P\\x19.\\x80\\x02M\\xe9\\x03.\\x80\\x02}q\\x00(X\\x10\\x00\\x00\\x00protocol_versionq\\x01M\\xe9\\x03X\\r\\x00\\x00\\x00little_endianq\\x02\\x88X\\n\\x00\\x00\\x00type_sizesq\\x03}q\\x04(X\\x05\\x00\\x00\\x00shortq\\x05K\\x02X\\x03\\x00\\x00\\x00intq\\x06K\\x04X\\x04\\x00\\x00\\x00longq\\x07K\\x04uu.\\x80\\x02(X\\x07\\x00\\x00\\x00storageq\\x00ctorch\\nFloatStorage\\nq\\x01X\\x0e\\x00\\x00\\x0094519450364576q\\x02X\\x06\\x00\\x00\\x00cuda:0q\\x03K\\x13Ntq\\x04Q.\\x80\\x02]q\\x00X\\x0e\\x00\\x00\\x0094519450364576q\\x01a.\\x13\\x00\\x00\\x00\\x00\\x00\\x00\\x00\\x06f\\x97=\\xc6\\xdd\\x94=0\\xa4\\x94=\\xf2\\xc0\\x85=\\xe0\\xbf\\x7f=\\xc4}t=^jk=\\xb0&g=\\x86\\xf3d=\\xe0@a=\\xf9\\na=\\xe8UZ=)\\x0fZ=\\xb0WY=\\x16\\x88X=\\xb0cW=\\xfd\\xd7T=N\\xf4P=d\\xaaN=q\\x1a\\x85q\\x1bRq\\x1cK\\x00K\\x13\\x85q\\x1dK\\x01\\x85q\\x1e\\x89h\\x15)Rq\\x1ftq Rq!X\\x0c\\x00\\x00\\x00pred_classesq\"h\\x0e(h\\x0fB\\x95\\x01\\x00\\x00\\x80\\x02\\x8a\\nl\\xfc\\x9cF\\xf9 j\\xa8P\\x19.\\x80\\x02M\\xe9\\x03.\\x80\\x02}q\\x00(X\\x10\\x00\\x00\\x00protocol_versionq\\x01M\\xe9\\x03X\\r\\x00\\x00\\x00little_endianq\\x02\\x88X\\n\\x00\\x00\\x00type_sizesq\\x03}q\\x04(X\\x05\\x00\\x00\\x00shortq\\x05K\\x02X\\x03\\x00\\x00\\x00intq\\x06K\\x04X\\x04\\x00\\x00\\x00longq\\x07K\\x04uu.\\x80\\x02(X\\x07\\x00\\x00\\x00storageq\\x00ctorch\\nLongStorage\\nq\\x01X\\x0e\\x00\\x00\\x0094519406481712q\\x02X\\x06\\x00\\x00\\x00cuda:0q\\x03K\\x13Ntq\\x04Q.\\x80\\x02]q\\x00X\\x0e\\x00\\x00\\x0094519406481712q\\x01a.\\x13\\x00\\x00\\x00\\x00\\x00\\x00\\x00,\\x00\\x00\\x00\\x00\\x00\\x00\\x00\\x15\\x00\\x00\\x00\\x00\\x00\\x00\\x00\\x15\\x00\\x00\\x00\\x00\\x00\\x00\\x00,\\x00\\x00\\x00\\x00\\x00\\x00\\x00\\x15\\x00\\x00\\x00\\x00\\x00\\x00\\x00\\x15\\x00\\x00\\x00\\x00\\x00\\x00\\x00,\\x00\\x00\\x00\\x00\\x00\\x00\\x00A\\x00\\x00\\x00\\x00\\x00\\x00\\x00\\x15\\x00\\x00\\x00\\x00\\x00\\x00\\x00\\x15\\x00\\x00\\x00\\x00\\x00\\x00\\x00,\\x00\\x00\\x00\\x00\\x00\\x00\\x00A\\x00\\x00\\x00\\x00\\x00\\x00\\x00,\\x00\\x00\\x00\\x00\\x00\\x00\\x00\\x15\\x00\\x00\\x00\\x00\\x00\\x00\\x00,\\x00\\x00\\x00\\x00\\x00\\x00\\x00,\\x00\\x00\\x00\\x00\\x00\\x00\\x00\\x15\\x00\\x00\\x00\\x00\\x00\\x00\\x00,\\x00\\x00\\x00\\x00\\x00\\x00\\x00A\\x00\\x00\\x00\\x00\\x00\\x00\\x00q#\\x85q$Rq%K\\x00K\\x13\\x85q&K\\x01\\x85q\\'\\x89h\\x15)Rq(tq)Rq*uubs.'\n"
     ]
    }
   ],
   "source": [
    "import requests\n",
    "import cv2\n",
    "\n",
    "url = 'http://172.18.0.2:8080/invocations'\n",
    "content_type = 'image/jpeg'\n",
    "headers = {'content-type': content_type}\n",
    "payload = open('coco_sample.jpg', 'rb')\n",
    "\n",
    "response = requests.post(url, data=payload, headers=headers)\n",
    "print(response.content)"
   ]
  },
  {
   "cell_type": "code",
   "execution_count": null,
   "metadata": {},
   "outputs": [],
   "source": [
    "type(response.content)\n",
    "import pickle\n",
    "import detectron2 \n",
    "\n",
    "p = pickle.loads(response.content)"
   ]
  },
  {
   "cell_type": "markdown",
   "metadata": {},
   "source": [
    "## Deploy remote endpoint\n",
    "\n",
    "To process inference data when we are sending it over internet, we need to have two customer ser/deser methods."
   ]
  },
  {
   "cell_type": "code",
   "execution_count": 6,
   "metadata": {},
   "outputs": [],
   "source": [
    "from sagemaker.pytorch import PyTorchModel, PyTorch, PyTorchPredictor\n",
    "from sagemaker.estimator import Estimator, Model\n",
    "\n",
    "remote_model = PyTorchModel(\n",
    "                     model_data=\"s3://sagemaker-us-east-2-553020858742/detectron2-model/model_R_50_FPN_1x.tar.gz\", # from training job\n",
    "                     role=role,\n",
    "                     entry_point=\"predict_coco.py\", source_dir=\"container_serving\",\n",
    "                     framework_version=\"1.4\", py_version=\"3.6\",\n",
    "                     image=image)"
   ]
  },
  {
   "cell_type": "code",
   "execution_count": 7,
   "metadata": {},
   "outputs": [],
   "source": [
    "remote_predictor = remote_model.deploy(\n",
    "                         instance_type='ml.p3.16xlarge', \n",
    "                         initial_instance_count=1,\n",
    "                         endpoint_name=f\"{container_serving}-{tag}\", # define a unqie endpoint name; if ommited, Sagemaker will generate it based on used container\n",
    "                         tags=[{\"Key\":\"image\", \"Value\":f\"{container_serving}:{tag}\"}], \n",
    "                         wait=False\n",
    "                         )"
   ]
  },
  {
   "cell_type": "code",
   "execution_count": null,
   "metadata": {},
   "outputs": [],
   "source": [
    "import boto3\n",
    "\n",
    "client = boto3.client('sagemaker-runtime')\n",
    "\n",
    "content_type = 'image/jpeg'\n",
    "headers = {'content-type': content_type}\n",
    "payload = open('coco_sample.jpg', 'rb')\n",
    "\n",
    "client.invoke_endpoint(\n",
    "    EndpointName=remote_predictor.endpoint,\n",
    "    Body=payload,\n",
    "    ContentType=content_type,\n",
    "#    Accept = \"\"\n",
    ")"
   ]
  },
  {
   "cell_type": "code",
   "execution_count": null,
   "metadata": {},
   "outputs": [],
   "source": [
    "predictor.delete_endpoint()"
   ]
  }
 ],
 "metadata": {
  "kernelspec": {
   "display_name": "conda_pytorch_p36",
   "language": "python",
   "name": "conda_pytorch_p36"
  },
  "language_info": {
   "codemirror_mode": {
    "name": "ipython",
    "version": 3
   },
   "file_extension": ".py",
   "mimetype": "text/x-python",
   "name": "python",
   "nbconvert_exporter": "python",
   "pygments_lexer": "ipython3",
   "version": "3.6.5"
  }
 },
 "nbformat": 4,
 "nbformat_minor": 4
}
