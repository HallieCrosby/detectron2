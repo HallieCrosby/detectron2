{
 "cells": [
  {
   "cell_type": "markdown",
   "metadata": {},
   "source": [
    "# Hosting Detectron2 model on Sagemaker Inference endpoint\n",
    "\n",
    "In this notebook we'll package previously trained model into PyTorch Serving container and deploy it on Sagemaker. First, let's review serving container. There are two key difference comparing to training container:\n",
    "- we are using different base container provided by Sagemaker;\n",
    "- we need to start Web server (refer to ENTRYPOINT command)."
   ]
  },
  {
   "cell_type": "markdown",
   "metadata": {},
   "source": [
    "## Compiling Serving Container"
   ]
  },
  {
   "cell_type": "code",
   "execution_count": null,
   "metadata": {},
   "outputs": [],
   "source": [
    "! pygmentize -l docker Dockerfile.serving"
   ]
  },
  {
   "cell_type": "markdown",
   "metadata": {},
   "source": [
    "As in case of training image, we'll need to build and push container to AWS ECR. Before this, we'll need to loging to shared Sagemaker ECR and your local ECR"
   ]
  },
  {
   "cell_type": "code",
   "execution_count": null,
   "metadata": {},
   "outputs": [],
   "source": [
    "# loging to Sagemaker ECR with Deep Learning Containers\n",
    "!aws ecr get-login-password --region us-east-2 | docker login --username AWS --password-stdin 763104351884.dkr.ecr.us-east-2.amazonaws.com\n",
    "# loging to your private ECR\n",
    "!aws ecr get-login-password --region us-east-2 | docker login --username AWS --password-stdin 553020858742.dkr.ecr.us-east-2.amazonaws.com"
   ]
  },
  {
   "cell_type": "markdown",
   "metadata": {},
   "source": [
    "Now, let's build and push container using follow command. Note, that here we supply non-default Dockerfile."
   ]
  },
  {
   "cell_type": "code",
   "execution_count": null,
   "metadata": {},
   "outputs": [],
   "source": [
    "! ./build_and_push.sh d2-sm-coco-serving latest Dockerfile.serving"
   ]
  },
  {
   "cell_type": "markdown",
   "metadata": {},
   "source": [
    "## Preparing test data\n",
    "\n",
    "We'll be using coco2017 validation dataset. To simplify working with it, let's install locally Pycoco package"
   ]
  },
  {
   "cell_type": "code",
   "execution_count": null,
   "metadata": {},
   "outputs": [],
   "source": [
    "!pip install 'git+https://github.com/cocodataset/cocoapi.git#subdirectory=PythonAPI'"
   ]
  },
  {
   "cell_type": "code",
   "execution_count": null,
   "metadata": {},
   "outputs": [],
   "source": [
    "!pip install -U scikit-image"
   ]
  },
  {
   "cell_type": "markdown",
   "metadata": {},
   "source": [
    "Now, let's download Coco2017 validation dataset"
   ]
  },
  {
   "cell_type": "code",
   "execution_count": null,
   "metadata": {},
   "outputs": [],
   "source": [
    "data_dir = \"../datasets/coco/\" # folder where data will be saved\n",
    "dataset  = \"val2017\""
   ]
  },
  {
   "cell_type": "code",
   "execution_count": null,
   "metadata": {},
   "outputs": [],
   "source": [
    "! mkdir -p {data_dir}{dataset}\n",
    "! wget http://images.cocodataset.org/zips/val2017.zip -P {data_dir}\n",
    "! unzip {data_dir}/val2017.zip -d {data_dir}"
   ]
  },
  {
   "cell_type": "code",
   "execution_count": null,
   "metadata": {},
   "outputs": [],
   "source": [
    "! wget http://images.cocodataset.org/annotations/annotations_trainval2017.zip -P {data_dir}\n",
    "! unzip {data_dir}/annotations_trainval2017.zip -d {data_dir}{dataset}"
   ]
  },
  {
   "cell_type": "markdown",
   "metadata": {},
   "source": [
    "Let's get a random image ..."
   ]
  },
  {
   "cell_type": "code",
   "execution_count": null,
   "metadata": {},
   "outputs": [],
   "source": [
    "%matplotlib inline\n",
    "from pycocotools.coco import COCO\n",
    "import numpy as np\n",
    "import skimage.io as io\n",
    "import matplotlib.pyplot as plt\n",
    "import pylab\n",
    "pylab.rcParams['figure.figsize'] = (8.0, 10.0)\n",
    "\n",
    "annFile='{}{}/annotations/instances_{}.json'.format(data_dir,dataset, dataset)\n",
    "coco=COCO(annFile)\n",
    "\n",
    "# get all images containing given categories, select one at random\n",
    "catIds = coco.getCatIds(catNms=['person','dog']);\n",
    "imgIds = coco.getImgIds(catIds=catIds);\n",
    "imgId = imgIds[np.random.randint(len(imgIds))]\n",
    "image_instance = coco.loadImgs(imgId)[0]\n",
    "image_np = io.imread(image_instance['coco_url'])    "
   ]
  },
  {
   "cell_type": "code",
   "execution_count": null,
   "metadata": {},
   "outputs": [],
   "source": [
    "plt.axis('off')\n",
    "plt.imshow(image_np)\n",
    "plt.show()"
   ]
  },
  {
   "cell_type": "markdown",
   "metadata": {},
   "source": [
    "# Testing inference script locally\n",
    "\n",
    "Let's first check what inference script we'll deploy:"
   ]
  },
  {
   "cell_type": "code",
   "execution_count": null,
   "metadata": {},
   "outputs": [],
   "source": [
    "!pip install sagemaker-inference"
   ]
  },
  {
   "cell_type": "code",
   "execution_count": null,
   "metadata": {},
   "outputs": [],
   "source": [
    "!pygmentize container_serving/predict_coco.py"
   ]
  },
  {
   "cell_type": "markdown",
   "metadata": {},
   "source": [
    "To test inference pipeline locally, you can run your `container_serving/predict_coco.py` locally (only code in __main__ guard will be executed). You'll need to have Detectron2 and number other packages locally installed to test it.\n",
    "\n",
    "Make sure that you pass correct --model-dir argument."
   ]
  },
  {
   "cell_type": "code",
   "execution_count": null,
   "metadata": {},
   "outputs": [],
   "source": [
    "!python container_serving/predict_coco.py --image container_serving/coco_sample.jpg --model-dir ../trained_model"
   ]
  },
  {
   "cell_type": "markdown",
   "metadata": {},
   "source": [
    "# Deploying Inference Endpoint\n",
    "\n",
    "Below is some initial imports and configuration."
   ]
  },
  {
   "cell_type": "code",
   "execution_count": null,
   "metadata": {},
   "outputs": [],
   "source": [
    "import boto3\n",
    "import re\n",
    "\n",
    "import os\n",
    "import numpy as np\n",
    "import pandas as pd\n",
    "from sagemaker import get_execution_role\n",
    "\n",
    "role = get_execution_role()"
   ]
  },
  {
   "cell_type": "code",
   "execution_count": null,
   "metadata": {},
   "outputs": [],
   "source": [
    "import sagemaker\n",
    "from time import gmtime, strftime\n",
    "\n",
    "sess = sagemaker.Session() # can use LocalSession() to run container locally\n",
    "\n",
    "bucket = sess.default_bucket()\n",
    "region = \"us-east-2\"\n",
    "account = sess.boto_session.client('sts').get_caller_identity()['Account']\n",
    "prefix_input = 'detectron2-input'\n",
    "prefix_output = 'detectron2-ouput'"
   ]
  },
  {
   "cell_type": "markdown",
   "metadata": {},
   "source": [
    "## Define parameters of your container"
   ]
  },
  {
   "cell_type": "code",
   "execution_count": null,
   "metadata": {},
   "outputs": [],
   "source": [
    "container_serving = \"d2-sm-coco-serving\" # your container name\n",
    "tag = \"latest\" # you can have several version of container available\n",
    "image = '{}.dkr.ecr.{}.amazonaws.com/{}:{}'.format(account, region, container_serving, tag)\n",
    "\n",
    "print(\"Following container will be used for hosting: \",image)"
   ]
  },
  {
   "cell_type": "markdown",
   "metadata": {},
   "source": [
    "## Deploy endpoint locally\n",
    "\n",
    "As training on COCO2017 can be quite lenghty, we'll deploy our endpoint from model artifacts from already completed training jobs. Please review your training jobs, and find one which succesffuly completed. Then, copy model artifact S3 URI and.  pass it to `model_data` argument below."
   ]
  },
  {
   "cell_type": "code",
   "execution_count": null,
   "metadata": {},
   "outputs": [],
   "source": [
    "from sagemaker.pytorch import PyTorchModel, PyTorch, PyTorchPredictor\n",
    "from sagemaker import Model\n",
    "\n",
    "# model = Model(model_data=\"s3://sagemaker-us-east-2-553020858742/detectron2-model/model_R_50_FPN_1x.tar.gz\",\n",
    "#               role=role,\n",
    "#               image=image)\n",
    "\n",
    "model = PyTorchModel(\n",
    "#                     model_data=\"s3://sagemaker-us-east-2-553020858742/detectron2-model/model.tar.gz\", #default D2 model\n",
    "                     model_data=\"s3://sagemaker-us-east-2-553020858742/detectron2-model/model_R_50_FPN_1x.tar.gz\", # from training job\n",
    "                     role=role,\n",
    "                     entry_point=\"predict_coco.py\", source_dir=\"container_serving\",\n",
    "                     framework_version=\"1.4\", py_version=\"3.6\",\n",
    "                     image=image)"
   ]
  },
  {
   "cell_type": "code",
   "execution_count": null,
   "metadata": {},
   "outputs": [],
   "source": [
    "predictor = model.deploy(\n",
    "                         instance_type = 'local_gpu',\n",
    "                         initial_instance_count=1,\n",
    "                         endpoint_name=f\"{container_serving}-{tag}\", # define a unqie endpoint name; if ommited, Sagemaker will generate it based on used container\n",
    "                         tags=[{\"Key\":\"image\", \"Value\":f\"{container_serving}:{tag}\"}], \n",
    "                         wait=False\n",
    "                         )"
   ]
  },
  {
   "cell_type": "code",
   "execution_count": null,
   "metadata": {},
   "outputs": [],
   "source": [
    "from sagemaker_inference import content_types, decoder, default_inference_handler, encoder\n",
    "from sagemaker.content_types import CONTENT_TYPE_JSON, CONTENT_TYPE_CSV, CONTENT_TYPE_NPY\n",
    "\n",
    "# These are serializer and deserializer to communication between client (e.g. this notebook) and Sagemaker endpoint.\n",
    "\n",
    "def np_to_npy(request_body):\n",
    "    body = encoder.encode(request_body, CONTENT_TYPE_NPY)\n",
    "    return body\n",
    "\n",
    "def bytes_to_pickle(response_body, content_type):\n",
    "    try:\n",
    "        return response_body.read()\n",
    "    finally:\n",
    "        response_body.close()\n",
    "\n",
    "payload = np_to_npy(image_np)\n",
    "print(type(image_np))\n",
    "print(type(payload))"
   ]
  },
  {
   "cell_type": "code",
   "execution_count": null,
   "metadata": {},
   "outputs": [],
   "source": [
    "predictor.predict(payload)"
   ]
  },
  {
   "cell_type": "code",
   "execution_count": null,
   "metadata": {},
   "outputs": [],
   "source": [
    "!curl -X POST 172.18.0.2:8080/invocations -v --data {payload} -H \"Content-Type: application/x-npy\""
   ]
  },
  {
   "cell_type": "code",
   "execution_count": null,
   "metadata": {},
   "outputs": [],
   "source": []
  },
  {
   "cell_type": "markdown",
   "metadata": {},
   "source": [
    "## Deploy remote endpoint\n",
    "\n",
    "To process inference data when we are sending it over internet, we need to have two customer ser/deser methods."
   ]
  },
  {
   "cell_type": "code",
   "execution_count": 6,
   "metadata": {},
   "outputs": [
    {
     "name": "stdout",
     "output_type": "stream",
     "text": [
      "553020858742.dkr.ecr.us-east-2.amazonaws.com/d2-sm-coco-serving:latest\n"
     ]
    }
   ],
   "source": [
    "from sagemaker.pytorch import PyTorchModel, PyTorch, PyTorchPredictor\n",
    "from sagemaker.estimator import Estimator, Model\n",
    "\n",
    "print(image)\n",
    "\n",
    "remote_model = Model(\n",
    "                     model_data=\"s3://sagemaker-us-east-2-553020858742/detectron2-model/model_R_50_FPN_1x.tar.gz\",\n",
    "                     role=role,\n",
    "                     image=image)"
   ]
  },
  {
   "cell_type": "code",
   "execution_count": 7,
   "metadata": {},
   "outputs": [],
   "source": [
    "remote_predictor = remote_model.deploy(\n",
    "                         instance_type='ml.p3.16xlarge', \n",
    "                         initial_instance_count=1,\n",
    "                         endpoint_name=f\"{container_serving}-{tag}-v2\", # define a unqie endpoint name; if ommited, Sagemaker will generate it based on used container\n",
    "                         tags=[{\"Key\":\"image\", \"Value\":f\"{container_serving}:{tag}\"}], \n",
    "                         wait=False\n",
    "                         )"
   ]
  },
  {
   "cell_type": "code",
   "execution_count": null,
   "metadata": {},
   "outputs": [],
   "source": [
    "remote_predictor.predict(image_np)"
   ]
  },
  {
   "cell_type": "code",
   "execution_count": null,
   "metadata": {},
   "outputs": [],
   "source": [
    "from sagemaker import RealTimePredictor\n",
    "\n",
    "\n",
    "remote_rt_predictor  = RealTimePredictor(endpoint=f\"d2-sm-coco-serving-latest-v2\",\n",
    "                                sagemaker_session=sess,\n",
    "                                serializer=np_to_npy,\n",
    "                                deserializer=bytes_to_pickle\n",
    "                               )\n",
    "\n",
    "\n",
    "remote_rt_predictor.predict(image_np)"
   ]
  },
  {
   "cell_type": "code",
   "execution_count": null,
   "metadata": {},
   "outputs": [],
   "source": [
    "import boto3\n",
    "\n",
    "client = boto3.client('sagemaker-runtime')\n",
    "\n",
    "client.invoke_endpoint(\n",
    "    EndpointName='d2-sm-coco-serving-latest',\n",
    "    Body=np_to_npy(image_np),\n",
    "    ContentType='application/x-npy',\n",
    "    Accept='string', # TODO\n",
    "    TargetModel='d2-sm-coco-serving-2020-04-21-01-10-43-766'\n",
    ")"
   ]
  },
  {
   "cell_type": "code",
   "execution_count": null,
   "metadata": {},
   "outputs": [],
   "source": [
    "predictor.delete_endpoint()"
   ]
  }
 ],
 "metadata": {
  "kernelspec": {
   "display_name": "conda_pytorch_p36",
   "language": "python",
   "name": "conda_pytorch_p36"
  },
  "language_info": {
   "codemirror_mode": {
    "name": "ipython",
    "version": 3
   },
   "file_extension": ".py",
   "mimetype": "text/x-python",
   "name": "python",
   "nbconvert_exporter": "python",
   "pygments_lexer": "ipython3",
   "version": "3.6.5"
  }
 },
 "nbformat": 4,
 "nbformat_minor": 4
}
